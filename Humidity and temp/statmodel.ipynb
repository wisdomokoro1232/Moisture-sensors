{
 "cells": [
  {
   "cell_type": "code",
   "execution_count": null,
   "metadata": {},
   "outputs": [],
   "source": [
    "import matplotlib.pyplot as plt\n",
    "import seaborn as sns\n",
    "import pandas as pd\n",
    "import numpy as np\n",
    "from numpy import random as rand\n",
    "\n",
    "#makes the plot come out in sns format\n",
    "sns.set()\n",
    "#time between readings ins seconds\n",
    "increment=3\n",
    "#read table into python and duration coloumn\n",
    "table= pd.read_csv('/Users/Windows/Documents/GitHub/Humidity and temperature/HumTemp.csv')\n",
    "Sensor_val=np.array([table.loc[:,'Temperature'],table.loc[:,'Humidity']])\n",
    "n=len(Sensor_val[0])\n",
    "#time array beased on time between readings\n",
    "Moisture= np.array()\n",
    "print(n)"
   ]
  },
  {
   "cell_type": "code",
   "execution_count": null,
   "metadata": {},
   "outputs": [],
   "source": [
    "#  Boxplot of Sensor_vals\n",
    "tablemelt=table.melt()\n",
    "sns.boxplot(x=tablemelt['variable'], y=tablemelt['value'], data=tablemelt)\n",
    "plt.title('Boxplot of Humidity and temperature values')\n",
    "plt.show()"
   ]
  },
  {
   "cell_type": "code",
   "execution_count": null,
   "metadata": {},
   "outputs": [],
   "source": [
    "#plot variation in humidity and temperature as test progresses\n",
    "plt.plot(Sensor_val[0],Time)\n",
    "plt.figure()\n",
    "plt.plot(Sensor_val[1],Time)"
   ]
  },
  {
   "cell_type": "code",
   "execution_count": null,
   "metadata": {},
   "outputs": [],
   "source": [
    "print(Sensor_val[1])\n",
    "print(Sensor_val[2])"
   ]
  }
 ],
 "metadata": {
  "kernelspec": {
   "display_name": "base",
   "language": "python",
   "name": "python3"
  },
  "language_info": {
   "codemirror_mode": {
    "name": "ipython",
    "version": 3
   },
   "file_extension": ".py",
   "mimetype": "text/x-python",
   "name": "python",
   "nbconvert_exporter": "python",
   "pygments_lexer": "ipython3",
   "version": "3.9.13"
  },
  "orig_nbformat": 4
 },
 "nbformat": 4,
 "nbformat_minor": 2
}
